{
 "cells": [
  {
   "cell_type": "code",
   "execution_count": 1,
   "id": "ee6d4d5f",
   "metadata": {},
   "outputs": [],
   "source": [
    "import requests\n",
    "from bs4 import BeautifulSoup as bs\n",
    "from urllib.request import urlopen as uReq\n",
    "import logging"
   ]
  },
  {
   "cell_type": "code",
   "execution_count": 2,
   "id": "3da2e6a3",
   "metadata": {},
   "outputs": [],
   "source": [
    "flipkart_url = \"https://www.flipkart.com/search?q=\" + \"samsung\"\n",
    "\n",
    "urlclient = uReq(flipkart_url)\n",
    "flipkart_page = urlclient.read()\n",
    "flipkart_html = bs(flipkart_page,'html.parser')"
   ]
  },
  {
   "cell_type": "code",
   "execution_count": 3,
   "id": "a0608504",
   "metadata": {},
   "outputs": [],
   "source": [
    "bigbox = flipkart_html.findAll(\"div\",{'class': \"_1AtVbE col-12-12\"})"
   ]
  },
  {
   "cell_type": "code",
   "execution_count": 4,
   "id": "73a37963",
   "metadata": {},
   "outputs": [],
   "source": [
    "del bigbox[0:3]"
   ]
  },
  {
   "cell_type": "code",
   "execution_count": 5,
   "id": "15773c01",
   "metadata": {},
   "outputs": [
    {
     "name": "stdout",
     "output_type": "stream",
     "text": [
      "https://www.flipkart.com/samsung-galaxy-f13-nightsky-green-64-gb/p/itmeadfda1bd23fa?pid=MOBGENJWF4KJTPEN&lid=LSTMOBGENJWF4KJTPENS2XJXA&marketplace=FLIPKART&q=samsung&store=search.flipkart.com&srno=s_1_9&otracker=search&fm=organic&iid=049b66ac-03ea-4e54-80ad-ab84dacb8329.MOBGENJWF4KJTPEN.SEARCH&ppt=None&ppn=None&ssid=4i8n46h07k0000001677079489861&qH=fe546279a62683de\n",
      "https://www.flipkart.com/samsung-6-kg-5-star-hygiene-steam-ceramic-heater-fully-automatic-front-load-in-built-white/p/itm2ee8237807ed7?pid=WMNFP6FWBB4AMHYJ&lid=LSTWMNFP6FWBB4AMHYJVZX57N&marketplace=FLIPKART&q=samsung&store=search.flipkart.com&srno=s_1_13&otracker=search&fm=organic&iid=049b66ac-03ea-4e54-80ad-ab84dacb8329.WMNFP6FWBB4AMHYJ.SEARCH&ppt=None&ppn=None&ssid=4i8n46h07k0000001677079489861&qH=fe546279a62683de\n",
      "https://www.flipkart.com/samsung-7-kg-semi-automatic-top-load-grey-purple/p/itm5c2eea1d02979?pid=WMNGCYG9HQFBCUBJ&lid=LSTWMNGCYG9HQFBCUBJBAP2OM&marketplace=FLIPKART&q=samsung&store=search.flipkart.com&srno=s_1_17&otracker=search&fm=organic&iid=049b66ac-03ea-4e54-80ad-ab84dacb8329.WMNGCYG9HQFBCUBJ.SEARCH&ppt=None&ppn=None&ssid=4i8n46h07k0000001677079489861&qH=fe546279a62683de\n",
      "https://www.flipkart.com/samsung-236-l-frost-free-double-door-2-star-refrigerator-digital-inverter/p/itm8737a13956d12?pid=RFRGHJPX2SRHP6VD&lid=LSTRFRGHJPX2SRHP6VDWFMU88&marketplace=FLIPKART&q=samsung&store=search.flipkart.com&srno=s_1_21&otracker=search&fm=organic&iid=049b66ac-03ea-4e54-80ad-ab84dacb8329.RFRGHJPX2SRHP6VD.SEARCH&ppt=None&ppn=None&ssid=4i8n46h07k0000001677079489861&qH=fe546279a62683de\n",
      "https://www.flipkart.com/samsung-183-l-direct-cool-single-door-3-star-refrigerator-digital-inverter/p/itmf01477eb08fff?pid=RFRGHJPXPYGXUFS7&lid=LSTRFRGHJPXPYGXUFS7W1JGBF&marketplace=FLIPKART&q=samsung&store=search.flipkart.com&srno=s_1_25&otracker=search&fm=organic&iid=049b66ac-03ea-4e54-80ad-ab84dacb8329.RFRGHJPXPYGXUFS7.SEARCH&ppt=None&ppn=None&ssid=4i8n46h07k0000001677079489861&qH=fe546279a62683de\n",
      "https://www.flipkart.com/samsung-189-l-direct-cool-single-door-5-star-refrigerator-base-drawer-digital-inverter/p/itmcc8135cdf2bc2?pid=RFRGHJPXNJ2GHN8V&lid=LSTRFRGHJPXNJ2GHN8VR0LYT9&marketplace=FLIPKART&q=samsung&store=search.flipkart.com&srno=s_1_29&otracker=search&fm=organic&iid=049b66ac-03ea-4e54-80ad-ab84dacb8329.RFRGHJPXNJ2GHN8V.SEARCH&ppt=None&ppn=None&ssid=4i8n46h07k0000001677079489861&qH=fe546279a62683de\n",
      "https://www.flipkart.com/samsung-galaxy-f04-opal-green-64-gb/p/itmd0c05f8b03876?pid=MOBGKY2V7QZ2QVFS&lid=LSTMOBGKY2V7QZ2QVFSGOGYVU&marketplace=FLIPKART&q=samsung&store=search.flipkart.com&spotlightTagId=BestsellerId_search.flipkart.com&srno=s_1_33&otracker=search&fm=organic&iid=049b66ac-03ea-4e54-80ad-ab84dacb8329.MOBGKY2V7QZ2QVFS.SEARCH&ppt=None&ppn=None&ssid=4i8n46h07k0000001677079489861&qH=fe546279a62683de\n",
      "https://www.flipkart.com/samsung-7-5-kg-semi-automatic-top-load-blue-grey/p/itmecde21cc327fa?pid=WMNGGSK86PGTMGHX&lid=LSTWMNGGSK86PGTMGHXJZ3Y6L&marketplace=FLIPKART&q=samsung&store=search.flipkart.com&srno=s_1_37&otracker=search&fm=organic&iid=049b66ac-03ea-4e54-80ad-ab84dacb8329.WMNGGSK86PGTMGHX.SEARCH&ppt=None&ppn=None&ssid=4i8n46h07k0000001677079489861&qH=fe546279a62683de\n"
     ]
    },
    {
     "ename": "AttributeError",
     "evalue": "'NoneType' object has no attribute 'a'",
     "output_type": "error",
     "traceback": [
      "\u001b[1;31m---------------------------------------------------------------------------\u001b[0m",
      "\u001b[1;31mAttributeError\u001b[0m                            Traceback (most recent call last)",
      "Input \u001b[1;32mIn [5]\u001b[0m, in \u001b[0;36m<cell line: 1>\u001b[1;34m()\u001b[0m\n\u001b[0;32m      1\u001b[0m \u001b[38;5;28;01mfor\u001b[39;00m i \u001b[38;5;129;01min\u001b[39;00m bigbox:   \u001b[38;5;66;03m#urr link \u001b[39;00m\n\u001b[1;32m----> 2\u001b[0m      \u001b[38;5;28mprint\u001b[39m(\u001b[38;5;124m'\u001b[39m\u001b[38;5;124mhttps://www.flipkart.com\u001b[39m\u001b[38;5;124m'\u001b[39m\u001b[38;5;241m+\u001b[39m \u001b[43mi\u001b[49m\u001b[38;5;241;43m.\u001b[39;49m\u001b[43mdiv\u001b[49m\u001b[38;5;241;43m.\u001b[39;49m\u001b[43mdiv\u001b[49m\u001b[38;5;241;43m.\u001b[39;49m\u001b[43mdiv\u001b[49m\u001b[38;5;241;43m.\u001b[39;49m\u001b[43ma\u001b[49m[\u001b[38;5;124m\"\u001b[39m\u001b[38;5;124mhref\u001b[39m\u001b[38;5;124m\"\u001b[39m])\n",
      "\u001b[1;31mAttributeError\u001b[0m: 'NoneType' object has no attribute 'a'"
     ]
    }
   ],
   "source": [
    "for i in bigbox:   #urr link \n",
    "     print('https://www.flipkart.com'+ i.div.div.div.a[\"href\"])"
   ]
  },
  {
   "cell_type": "code",
   "execution_count": 6,
   "id": "aa53d7ee",
   "metadata": {},
   "outputs": [],
   "source": [
    "product_link = 'https://www.flipkart.com'+ bigbox[3].div.div.div.a[\"href\"]\n",
    "product_req = requests.get(product_link)"
   ]
  },
  {
   "cell_type": "code",
   "execution_count": 7,
   "id": "67ebb1ad",
   "metadata": {},
   "outputs": [
    {
     "data": {
      "text/plain": [
       "'Gaurav Biswas'"
      ]
     },
     "execution_count": 7,
     "metadata": {},
     "output_type": "execute_result"
    }
   ],
   "source": [
    "\n",
    "product_html = bs(product_req.text,\"html.parser\")   \n",
    "comment_box = product_html.find_all(\"div\",{\"class\": \"_16PBlm\"})\n",
    "\n",
    "\n",
    "comment_box[0].div.div.find_all(\"p\", {\"class\": \"_2sc7ZR _2V5EHH\"})[0].text"
   ]
  },
  {
   "cell_type": "code",
   "execution_count": 8,
   "id": "288fdad0",
   "metadata": {},
   "outputs": [
    {
     "name": "stdout",
     "output_type": "stream",
     "text": [
      "Gaurav Biswas\n",
      "Habibulla Khan M\n",
      "Ankush  Raj\n",
      "Ajay Steve\n",
      "Kusuma K\n",
      "Flipkart Customer\n",
      "Moin Kazi\n",
      "hiranmoy sarkar\n",
      "Biltu Roy\n",
      "Flipkart Customer\n"
     ]
    },
    {
     "ename": "AttributeError",
     "evalue": "'NoneType' object has no attribute 'div'",
     "output_type": "error",
     "traceback": [
      "\u001b[1;31m---------------------------------------------------------------------------\u001b[0m",
      "\u001b[1;31mAttributeError\u001b[0m                            Traceback (most recent call last)",
      "Input \u001b[1;32mIn [8]\u001b[0m, in \u001b[0;36m<cell line: 1>\u001b[1;34m()\u001b[0m\n\u001b[0;32m      1\u001b[0m \u001b[38;5;28;01mfor\u001b[39;00m i \u001b[38;5;129;01min\u001b[39;00m comment_box:           \u001b[38;5;66;03m#customer name\u001b[39;00m\n\u001b[1;32m----> 2\u001b[0m      \u001b[38;5;28mprint\u001b[39m(\u001b[43mi\u001b[49m\u001b[38;5;241;43m.\u001b[39;49m\u001b[43mdiv\u001b[49m\u001b[38;5;241;43m.\u001b[39;49m\u001b[43mdiv\u001b[49m\u001b[38;5;241m.\u001b[39mfind_all(\u001b[38;5;124m'\u001b[39m\u001b[38;5;124mp\u001b[39m\u001b[38;5;124m'\u001b[39m, {\u001b[38;5;124m\"\u001b[39m\u001b[38;5;124mclass\u001b[39m\u001b[38;5;124m\"\u001b[39m: \u001b[38;5;124m\"\u001b[39m\u001b[38;5;124m_2sc7ZR _2V5EHH\u001b[39m\u001b[38;5;124m\"\u001b[39m})[\u001b[38;5;241m0\u001b[39m]\u001b[38;5;241m.\u001b[39mtext)\n",
      "\u001b[1;31mAttributeError\u001b[0m: 'NoneType' object has no attribute 'div'"
     ]
    }
   ],
   "source": [
    "for i in comment_box:           #customer name\n",
    "     print(i.div.div.find_all('p', {\"class\": \"_2sc7ZR _2V5EHH\"})[0].text)"
   ]
  },
  {
   "cell_type": "code",
   "execution_count": 9,
   "id": "24f35bfb",
   "metadata": {},
   "outputs": [
    {
     "name": "stdout",
     "output_type": "stream",
     "text": [
      "5\n",
      "5\n",
      "5\n",
      "4\n",
      "5\n",
      "5\n",
      "5\n",
      "5\n",
      "5\n",
      "4\n"
     ]
    },
    {
     "ename": "AttributeError",
     "evalue": "'NoneType' object has no attribute 'div'",
     "output_type": "error",
     "traceback": [
      "\u001b[1;31m---------------------------------------------------------------------------\u001b[0m",
      "\u001b[1;31mAttributeError\u001b[0m                            Traceback (most recent call last)",
      "Input \u001b[1;32mIn [9]\u001b[0m, in \u001b[0;36m<cell line: 1>\u001b[1;34m()\u001b[0m\n\u001b[0;32m      1\u001b[0m \u001b[38;5;28;01mfor\u001b[39;00m i \u001b[38;5;129;01min\u001b[39;00m comment_box:      \u001b[38;5;66;03m#rating\u001b[39;00m\n\u001b[1;32m----> 2\u001b[0m      \u001b[38;5;28mprint\u001b[39m(\u001b[43mi\u001b[49m\u001b[38;5;241;43m.\u001b[39;49m\u001b[43mdiv\u001b[49m\u001b[38;5;241;43m.\u001b[39;49m\u001b[43mdiv\u001b[49m\u001b[38;5;241m.\u001b[39mdiv\u001b[38;5;241m.\u001b[39mdiv\u001b[38;5;241m.\u001b[39mtext)\n",
      "\u001b[1;31mAttributeError\u001b[0m: 'NoneType' object has no attribute 'div'"
     ]
    }
   ],
   "source": [
    "for i in comment_box:      #rating\n",
    "     print(i.div.div.div.div.text)"
   ]
  },
  {
   "cell_type": "code",
   "execution_count": 10,
   "id": "68dae336",
   "metadata": {},
   "outputs": [
    {
     "name": "stdout",
     "output_type": "stream",
     "text": [
      "Great product\n",
      "Mind-blowing purchase\n",
      "Fabulous!\n",
      "Good quality product\n",
      "Highly recommended\n",
      "Great product\n",
      "Mind-blowing purchase\n",
      "Highly recommended\n",
      "Fabulous!\n",
      "Value-for-money\n"
     ]
    },
    {
     "ename": "AttributeError",
     "evalue": "'NoneType' object has no attribute 'div'",
     "output_type": "error",
     "traceback": [
      "\u001b[1;31m---------------------------------------------------------------------------\u001b[0m",
      "\u001b[1;31mAttributeError\u001b[0m                            Traceback (most recent call last)",
      "Input \u001b[1;32mIn [10]\u001b[0m, in \u001b[0;36m<cell line: 1>\u001b[1;34m()\u001b[0m\n\u001b[0;32m      1\u001b[0m \u001b[38;5;28;01mfor\u001b[39;00m i \u001b[38;5;129;01min\u001b[39;00m comment_box:    \u001b[38;5;66;03m#rating highlight\u001b[39;00m\n\u001b[1;32m----> 2\u001b[0m      \u001b[38;5;28mprint\u001b[39m(\u001b[43mi\u001b[49m\u001b[38;5;241;43m.\u001b[39;49m\u001b[43mdiv\u001b[49m\u001b[38;5;241;43m.\u001b[39;49m\u001b[43mdiv\u001b[49m\u001b[38;5;241m.\u001b[39mdiv\u001b[38;5;241m.\u001b[39mp\u001b[38;5;241m.\u001b[39mtext)\n",
      "\u001b[1;31mAttributeError\u001b[0m: 'NoneType' object has no attribute 'div'"
     ]
    }
   ],
   "source": [
    "for i in comment_box:    #rating highlight\n",
    "     print(i.div.div.div.p.text)"
   ]
  },
  {
   "cell_type": "code",
   "execution_count": 11,
   "id": "34c48686",
   "metadata": {},
   "outputs": [
    {
     "name": "stdout",
     "output_type": "stream",
     "text": [
      "Ordering from an an online platform is very risky for many people but this refrigerator is worth of it.Nice quality and classy look.Fast installation within one day of delivery.Sleak and smooth compressor.No vibrations and no sound.Great work flipkart and samsung. JUST LOVED IT 😍❤\n",
      "I recommend it without any dought. Go for it working good. No noise. Delivered in one day without any damages. The next day installation completed. Nice working. Thank you Flipkart and Samsung.\n",
      "It's a very good product, it's colour amazing, it's cimfortable in house\n",
      "Very impressive design 👍👍👍Nice quality products\n",
      "Very nice and happy wit the product and quick delivery and good service by flipkart.\n",
      "Delivery person are very helpful, product is too good.\n",
      "Excellent Double Door Refrigerator in this price. Product is very good. Just a little dent on back side of the refrigerator but that is ok as it doesn't damage any part. Thanks to Flipkart for such an amazing deal.\n",
      "Excellent\n",
      "Nice 👍\n",
      "Must buy\n"
     ]
    },
    {
     "ename": "AttributeError",
     "evalue": "'NoneType' object has no attribute 'div'",
     "output_type": "error",
     "traceback": [
      "\u001b[1;31m---------------------------------------------------------------------------\u001b[0m",
      "\u001b[1;31mAttributeError\u001b[0m                            Traceback (most recent call last)",
      "Input \u001b[1;32mIn [11]\u001b[0m, in \u001b[0;36m<cell line: 1>\u001b[1;34m()\u001b[0m\n\u001b[0;32m      1\u001b[0m \u001b[38;5;28;01mfor\u001b[39;00m i \u001b[38;5;129;01min\u001b[39;00m comment_box:   \u001b[38;5;66;03m#rating comment\u001b[39;00m\n\u001b[1;32m----> 2\u001b[0m     \u001b[38;5;28mprint\u001b[39m(\u001b[43mi\u001b[49m\u001b[38;5;241;43m.\u001b[39;49m\u001b[43mdiv\u001b[49m\u001b[38;5;241;43m.\u001b[39;49m\u001b[43mdiv\u001b[49m\u001b[38;5;241m.\u001b[39mfind_all(\u001b[38;5;124m'\u001b[39m\u001b[38;5;124mdiv\u001b[39m\u001b[38;5;124m'\u001b[39m,{\u001b[38;5;124m'\u001b[39m\u001b[38;5;124mclass\u001b[39m\u001b[38;5;124m'\u001b[39m:\u001b[38;5;124m'\u001b[39m\u001b[38;5;124m'\u001b[39m})[\u001b[38;5;241m0\u001b[39m]\u001b[38;5;241m.\u001b[39mdiv\u001b[38;5;241m.\u001b[39mtext)\n",
      "\u001b[1;31mAttributeError\u001b[0m: 'NoneType' object has no attribute 'div'"
     ]
    }
   ],
   "source": [
    "for i in comment_box:   #rating comment\n",
    "    print(i.div.div.find_all('div',{'class':''})[0].div.text)"
   ]
  },
  {
   "cell_type": "code",
   "execution_count": null,
   "id": "e75b200f",
   "metadata": {},
   "outputs": [],
   "source": [
    "#AAKASH-RAJPUT#\n",
    "\n",
    "\"https://www.linkedin.com/in/aakash1012/\""
   ]
  },
  {
   "cell_type": "code",
   "execution_count": null,
   "id": "1c8f3155",
   "metadata": {},
   "outputs": [],
   "source": []
  },
  {
   "cell_type": "code",
   "execution_count": null,
   "id": "9dad2a3c",
   "metadata": {},
   "outputs": [],
   "source": []
  },
  {
   "cell_type": "code",
   "execution_count": null,
   "id": "7718bd54",
   "metadata": {},
   "outputs": [],
   "source": []
  }
 ],
 "metadata": {
  "kernelspec": {
   "display_name": "Python 3 (ipykernel)",
   "language": "python",
   "name": "python3"
  },
  "language_info": {
   "codemirror_mode": {
    "name": "ipython",
    "version": 3
   },
   "file_extension": ".py",
   "mimetype": "text/x-python",
   "name": "python",
   "nbconvert_exporter": "python",
   "pygments_lexer": "ipython3",
   "version": "3.9.12"
  }
 },
 "nbformat": 4,
 "nbformat_minor": 5
}
